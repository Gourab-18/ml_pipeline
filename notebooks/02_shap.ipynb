{
  "cells": [
    {
      "cell_type": "markdown",
      "metadata": {},
      "source": [
        "# SHAP Explanations for Model Interpretability\n",
        "\n",
        "## Overview\n",
        "This notebook demonstrates SHAP (SHapley Additive exPlanations) for interpreting model predictions.\n",
        "We visualize feature importance and per-instance explanations.\n",
        "\n",
        "## Objectives\n",
        "1. **Feature Importance**: Identify top contributing features\n",
        "2. **Per-Instance Explanations**: Understand why specific predictions were made\n",
        "3. **SHAP Visualizations**: Waterfall, summary, and feature plots\n"
      ]
    },
    {
      "cell_type": "code",
      "execution_count": null,
      "metadata": {},
      "outputs": [],
      "source": [
        "# Import required libraries\n",
        "import pandas as pd\n",
        "import numpy as np\n",
        "import matplotlib.pyplot as plt\n",
        "import seaborn as sns\n",
        "import warnings\n",
        "from pathlib import Path\n",
        "import sys\n",
        "\n",
        "# Add src to path\n",
        "sys.path.insert(0, str(Path.cwd().parent))\n",
        "\n",
        "from src.data.loader import DataLoader\n",
        "from src.explainability.shap import (\n",
        "    compute_and_save_shap,\n",
        "    get_top_features_shap,\n",
        "    sample_background_data,\n",
        "    SHAP_AVAILABLE\n",
        ")\n",
        "from src.explainability.permutation import compute_permutation_importance_oof\n",
        "\n",
        "# Try to import SHAP for visualization\n",
        "try:\n",
        "    import shap\n",
        "    print(f\"✅ SHAP version: {shap.__version__}\")\n",
        "except ImportError:\n",
        "    print(\"⚠️ SHAP not installed. Install with: pip install shap\")\n",
        "    SHAP_AVAILABLE = False\n",
        "\n",
        "# Set up plotting\n",
        "plt.style.use('default')\n",
        "sns.set_palette(\"husl\")\n",
        "warnings.filterwarnings('ignore')\n",
        "\n",
        "print(\"✅ Libraries imported successfully!\")\n"
      ]
    },
    {
      "cell_type": "markdown",
      "metadata": {},
      "source": [
        "## Permutation Importance\n",
        "\n",
        "Compute global feature importance using permutation method.\n"
      ]
    },
    {
      "cell_type": "code",
      "execution_count": null,
      "metadata": {},
      "outputs": [],
      "source": [
        "# Example: Load OOF predictions and compute permutation importance\n",
        "# In practice, load from CV run: oof_df = pd.read_csv(\"../artifacts/cv/run_name/oof_predictions.csv\")\n",
        "\n",
        "# For demo, create synthetic data\n",
        "rng = np.random.default_rng(42)\n",
        "n = 100\n",
        "X = rng.normal(size=(n, 10))\n",
        "y_true = rng.binomial(1, 0.3, size=n)\n",
        "y_proba = 1 / (1 + np.exp(-X.sum(axis=1) + rng.normal(0, 0.5, n)))\n",
        "\n",
        "feature_names = [f\"feature_{i}\" for i in range(10)]\n",
        "\n",
        "perm_importance = compute_permutation_importance_oof(\n",
        "    X, y_true, y_proba,\n",
        "    feature_names=feature_names,\n",
        "    n_repeats=5,\n",
        "    random_state=42\n",
        ")\n",
        "\n",
        "print(\"📊 Top 10 Features by Permutation Importance:\")\n",
        "print(perm_importance.head(10))\n"
      ]
    },
    {
      "cell_type": "markdown",
      "metadata": {},
      "source": [
        "## SHAP Explanations\n",
        "\n",
        "Compute SHAP values for local explanations.\n"
      ]
    },
    {
      "cell_type": "code",
      "execution_count": null,
      "metadata": {},
      "outputs": [],
      "source": [
        "if SHAP_AVAILABLE:\n",
        "    # Define prediction function (in practice, use your trained model)\n",
        "    def predict_fn(X_input):\n",
        "        logits = X_input.sum(axis=1)\n",
        "        return 1 / (1 + np.exp(-logits))\n",
        "    \n",
        "    # Compute SHAP values\n",
        "    shap_results = compute_and_save_shap(\n",
        "        X[:50],  # Explain first 50 instances\n",
        "        predict_fn,\n",
        "        output_path=\"../artifacts/shap_values.csv\",\n",
        "        n_background=20,\n",
        "        feature_names=feature_names,\n",
        "        random_state=42\n",
        "    )\n",
        "    \n",
        "    print(f\"✅ SHAP values saved to: {shap_results['csv_path']}\")\n",
        "    \n",
        "    # Get top features\n",
        "    top_shap = get_top_features_shap(\n",
        "        shap_results['shap_values'],\n",
        "        feature_names,\n",
        "        top_k=10\n",
        "    )\n",
        "    print(\"\\n📊 Top 10 Features by Mean |SHAP|:\")\n",
        "    print(top_shap)\n",
        "else:\n",
        "    print(\"⚠️ SHAP not available. Install with: pip install shap\")\n"
      ]
    }
  ],
  "metadata": {
    "language_info": {
      "name": "python"
    }
  },
  "nbformat": 4,
  "nbformat_minor": 2
}
